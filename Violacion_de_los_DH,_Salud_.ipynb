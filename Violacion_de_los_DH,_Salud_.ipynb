{
  "nbformat": 4,
  "nbformat_minor": 0,
  "metadata": {
    "colab": {
      "provenance": [],
      "collapsed_sections": [],
      "mount_file_id": "104exU97PJrNFAvN7_705O4FkutP8_pTt",
      "authorship_tag": "ABX9TyNZ1l5Hqhg4s9ZYcbLxC3bE",
      "include_colab_link": true
    },
    "kernelspec": {
      "name": "python3",
      "display_name": "Python 3"
    },
    "language_info": {
      "name": "python"
    }
  },
  "cells": [
    {
      "cell_type": "markdown",
      "metadata": {
        "id": "view-in-github",
        "colab_type": "text"
      },
      "source": [
        "<a href=\"https://colab.research.google.com/github/MiguelEspinosa28/Ejercicios_1/blob/main/Violacion_de_los_DH%2C_Salud_.ipynb\" target=\"_parent\"><img src=\"https://colab.research.google.com/assets/colab-badge.svg\" alt=\"Open In Colab\"/></a>"
      ]
    },
    {
      "cell_type": "code",
      "execution_count": null,
      "metadata": {
        "id": "lVl8RIuNPrYN"
      },
      "outputs": [],
      "source": [
        "%config IPCompleter.greedy=True \n",
        "import pandas as pd\n",
        "import numpy as np\n",
        "import xlrd \n",
        "import matplotlib.pyplot as plt\n",
        "from matplotlib.ticker import PercentFormatter"
      ]
    },
    {
      "cell_type": "code",
      "source": [
        "from google.colab import files "
      ],
      "metadata": {
        "id": "nofasqzeUVO3"
      },
      "execution_count": null,
      "outputs": []
    },
    {
      "cell_type": "code",
      "source": [
        "from google.colab import drive\n",
        "drive.mount('/content/drive')"
      ],
      "metadata": {
        "colab": {
          "base_uri": "https://localhost:8080/"
        },
        "id": "FS5NxG6gUi08",
        "outputId": "6e1259d4-3ddd-4ee4-a508-957a717adc20"
      },
      "execution_count": null,
      "outputs": [
        {
          "output_type": "stream",
          "name": "stdout",
          "text": [
            "Drive already mounted at /content/drive; to attempt to forcibly remount, call drive.mount(\"/content/drive\", force_remount=True).\n"
          ]
        }
      ]
    },
    {
      "cell_type": "code",
      "source": [
        "import pandas as pd\n",
        "df=pd.read_excel(\"/content/drive/MyDrive/My drive/DB_1.xlsx\")\n",
        "df.shape"
      ],
      "metadata": {
        "colab": {
          "base_uri": "https://localhost:8080/"
        },
        "id": "P0GkehVRU1a0",
        "outputId": "91e02b86-a69f-4f3f-a0a5-42c504396904"
      },
      "execution_count": null,
      "outputs": [
        {
          "output_type": "execute_result",
          "data": {
            "text/plain": [
              "(32, 13)"
            ]
          },
          "metadata": {},
          "execution_count": 4
        }
      ]
    },
    {
      "cell_type": "code",
      "source": [
        "df.head()"
      ],
      "metadata": {
        "colab": {
          "base_uri": "https://localhost:8080/",
          "height": 206
        },
        "id": "FHJJrM3fXaBn",
        "outputId": "6d322cbe-972a-489d-c15a-1c92f931e731"
      },
      "execution_count": null,
      "outputs": [
        {
          "output_type": "execute_result",
          "data": {
            "text/plain": [
              "     Entidad federativa  POBLACIÓN         %   DHVS     DVV  2015.0  2016.0  \\\n",
              "0        Aguascalientes  1273404.0  1.449275   12.0   828.0    18.0     1.0   \n",
              "1       Baja California  3443792.0  0.000000    0.0     0.0  1247.0  1175.0   \n",
              "2   Baja California Sur   745601.0  1.488266   52.0  3494.0    93.0   181.0   \n",
              "3              Campeche   897291.0  7.496902  121.0  1614.0     9.0    21.0   \n",
              "4  Coahuila de Zaragoza  2932657.0  8.813559  312.0  3540.0   311.0   431.0   \n",
              "\n",
              "   2017.0  2018.0  2019.0  2020.0   MEDIA       TASA  \n",
              "0     0.0     0.0     0.0     0.0     0.2   0.015706  \n",
              "1  1111.0  1298.0  1384.0   289.0  1051.4  30.530299  \n",
              "2   232.0   290.0   315.0    64.0   216.4  29.023566  \n",
              "3    51.0    44.0    55.0    16.0    37.4   4.168102  \n",
              "4   490.0   574.0   559.0    91.0   429.0  14.628373  "
            ],
            "text/html": [
              "\n",
              "  <div id=\"df-b63c4c2c-52b0-473e-9218-4b695bfc38b2\">\n",
              "    <div class=\"colab-df-container\">\n",
              "      <div>\n",
              "<style scoped>\n",
              "    .dataframe tbody tr th:only-of-type {\n",
              "        vertical-align: middle;\n",
              "    }\n",
              "\n",
              "    .dataframe tbody tr th {\n",
              "        vertical-align: top;\n",
              "    }\n",
              "\n",
              "    .dataframe thead th {\n",
              "        text-align: right;\n",
              "    }\n",
              "</style>\n",
              "<table border=\"1\" class=\"dataframe\">\n",
              "  <thead>\n",
              "    <tr style=\"text-align: right;\">\n",
              "      <th></th>\n",
              "      <th>Entidad federativa</th>\n",
              "      <th>POBLACIÓN</th>\n",
              "      <th>%</th>\n",
              "      <th>DHVS</th>\n",
              "      <th>DVV</th>\n",
              "      <th>2015.0</th>\n",
              "      <th>2016.0</th>\n",
              "      <th>2017.0</th>\n",
              "      <th>2018.0</th>\n",
              "      <th>2019.0</th>\n",
              "      <th>2020.0</th>\n",
              "      <th>MEDIA</th>\n",
              "      <th>TASA</th>\n",
              "    </tr>\n",
              "  </thead>\n",
              "  <tbody>\n",
              "    <tr>\n",
              "      <th>0</th>\n",
              "      <td>Aguascalientes</td>\n",
              "      <td>1273404.0</td>\n",
              "      <td>1.449275</td>\n",
              "      <td>12.0</td>\n",
              "      <td>828.0</td>\n",
              "      <td>18.0</td>\n",
              "      <td>1.0</td>\n",
              "      <td>0.0</td>\n",
              "      <td>0.0</td>\n",
              "      <td>0.0</td>\n",
              "      <td>0.0</td>\n",
              "      <td>0.2</td>\n",
              "      <td>0.015706</td>\n",
              "    </tr>\n",
              "    <tr>\n",
              "      <th>1</th>\n",
              "      <td>Baja California</td>\n",
              "      <td>3443792.0</td>\n",
              "      <td>0.000000</td>\n",
              "      <td>0.0</td>\n",
              "      <td>0.0</td>\n",
              "      <td>1247.0</td>\n",
              "      <td>1175.0</td>\n",
              "      <td>1111.0</td>\n",
              "      <td>1298.0</td>\n",
              "      <td>1384.0</td>\n",
              "      <td>289.0</td>\n",
              "      <td>1051.4</td>\n",
              "      <td>30.530299</td>\n",
              "    </tr>\n",
              "    <tr>\n",
              "      <th>2</th>\n",
              "      <td>Baja California Sur</td>\n",
              "      <td>745601.0</td>\n",
              "      <td>1.488266</td>\n",
              "      <td>52.0</td>\n",
              "      <td>3494.0</td>\n",
              "      <td>93.0</td>\n",
              "      <td>181.0</td>\n",
              "      <td>232.0</td>\n",
              "      <td>290.0</td>\n",
              "      <td>315.0</td>\n",
              "      <td>64.0</td>\n",
              "      <td>216.4</td>\n",
              "      <td>29.023566</td>\n",
              "    </tr>\n",
              "    <tr>\n",
              "      <th>3</th>\n",
              "      <td>Campeche</td>\n",
              "      <td>897291.0</td>\n",
              "      <td>7.496902</td>\n",
              "      <td>121.0</td>\n",
              "      <td>1614.0</td>\n",
              "      <td>9.0</td>\n",
              "      <td>21.0</td>\n",
              "      <td>51.0</td>\n",
              "      <td>44.0</td>\n",
              "      <td>55.0</td>\n",
              "      <td>16.0</td>\n",
              "      <td>37.4</td>\n",
              "      <td>4.168102</td>\n",
              "    </tr>\n",
              "    <tr>\n",
              "      <th>4</th>\n",
              "      <td>Coahuila de Zaragoza</td>\n",
              "      <td>2932657.0</td>\n",
              "      <td>8.813559</td>\n",
              "      <td>312.0</td>\n",
              "      <td>3540.0</td>\n",
              "      <td>311.0</td>\n",
              "      <td>431.0</td>\n",
              "      <td>490.0</td>\n",
              "      <td>574.0</td>\n",
              "      <td>559.0</td>\n",
              "      <td>91.0</td>\n",
              "      <td>429.0</td>\n",
              "      <td>14.628373</td>\n",
              "    </tr>\n",
              "  </tbody>\n",
              "</table>\n",
              "</div>\n",
              "      <button class=\"colab-df-convert\" onclick=\"convertToInteractive('df-b63c4c2c-52b0-473e-9218-4b695bfc38b2')\"\n",
              "              title=\"Convert this dataframe to an interactive table.\"\n",
              "              style=\"display:none;\">\n",
              "        \n",
              "  <svg xmlns=\"http://www.w3.org/2000/svg\" height=\"24px\"viewBox=\"0 0 24 24\"\n",
              "       width=\"24px\">\n",
              "    <path d=\"M0 0h24v24H0V0z\" fill=\"none\"/>\n",
              "    <path d=\"M18.56 5.44l.94 2.06.94-2.06 2.06-.94-2.06-.94-.94-2.06-.94 2.06-2.06.94zm-11 1L8.5 8.5l.94-2.06 2.06-.94-2.06-.94L8.5 2.5l-.94 2.06-2.06.94zm10 10l.94 2.06.94-2.06 2.06-.94-2.06-.94-.94-2.06-.94 2.06-2.06.94z\"/><path d=\"M17.41 7.96l-1.37-1.37c-.4-.4-.92-.59-1.43-.59-.52 0-1.04.2-1.43.59L10.3 9.45l-7.72 7.72c-.78.78-.78 2.05 0 2.83L4 21.41c.39.39.9.59 1.41.59.51 0 1.02-.2 1.41-.59l7.78-7.78 2.81-2.81c.8-.78.8-2.07 0-2.86zM5.41 20L4 18.59l7.72-7.72 1.47 1.35L5.41 20z\"/>\n",
              "  </svg>\n",
              "      </button>\n",
              "      \n",
              "  <style>\n",
              "    .colab-df-container {\n",
              "      display:flex;\n",
              "      flex-wrap:wrap;\n",
              "      gap: 12px;\n",
              "    }\n",
              "\n",
              "    .colab-df-convert {\n",
              "      background-color: #E8F0FE;\n",
              "      border: none;\n",
              "      border-radius: 50%;\n",
              "      cursor: pointer;\n",
              "      display: none;\n",
              "      fill: #1967D2;\n",
              "      height: 32px;\n",
              "      padding: 0 0 0 0;\n",
              "      width: 32px;\n",
              "    }\n",
              "\n",
              "    .colab-df-convert:hover {\n",
              "      background-color: #E2EBFA;\n",
              "      box-shadow: 0px 1px 2px rgba(60, 64, 67, 0.3), 0px 1px 3px 1px rgba(60, 64, 67, 0.15);\n",
              "      fill: #174EA6;\n",
              "    }\n",
              "\n",
              "    [theme=dark] .colab-df-convert {\n",
              "      background-color: #3B4455;\n",
              "      fill: #D2E3FC;\n",
              "    }\n",
              "\n",
              "    [theme=dark] .colab-df-convert:hover {\n",
              "      background-color: #434B5C;\n",
              "      box-shadow: 0px 1px 3px 1px rgba(0, 0, 0, 0.15);\n",
              "      filter: drop-shadow(0px 1px 2px rgba(0, 0, 0, 0.3));\n",
              "      fill: #FFFFFF;\n",
              "    }\n",
              "  </style>\n",
              "\n",
              "      <script>\n",
              "        const buttonEl =\n",
              "          document.querySelector('#df-b63c4c2c-52b0-473e-9218-4b695bfc38b2 button.colab-df-convert');\n",
              "        buttonEl.style.display =\n",
              "          google.colab.kernel.accessAllowed ? 'block' : 'none';\n",
              "\n",
              "        async function convertToInteractive(key) {\n",
              "          const element = document.querySelector('#df-b63c4c2c-52b0-473e-9218-4b695bfc38b2');\n",
              "          const dataTable =\n",
              "            await google.colab.kernel.invokeFunction('convertToInteractive',\n",
              "                                                     [key], {});\n",
              "          if (!dataTable) return;\n",
              "\n",
              "          const docLinkHtml = 'Like what you see? Visit the ' +\n",
              "            '<a target=\"_blank\" href=https://colab.research.google.com/notebooks/data_table.ipynb>data table notebook</a>'\n",
              "            + ' to learn more about interactive tables.';\n",
              "          element.innerHTML = '';\n",
              "          dataTable['output_type'] = 'display_data';\n",
              "          await google.colab.output.renderOutput(dataTable, element);\n",
              "          const docLink = document.createElement('div');\n",
              "          docLink.innerHTML = docLinkHtml;\n",
              "          element.appendChild(docLink);\n",
              "        }\n",
              "      </script>\n",
              "    </div>\n",
              "  </div>\n",
              "  "
            ]
          },
          "metadata": {},
          "execution_count": 5
        }
      ]
    },
    {
      "cell_type": "code",
      "source": [
        "df.describe()"
      ],
      "metadata": {
        "id": "Wj1Koaj3X2bb",
        "outputId": "ea9e7d2b-1859-489c-a72a-d5e8841bbace",
        "colab": {
          "base_uri": "https://localhost:8080/",
          "height": 300
        }
      },
      "execution_count": null,
      "outputs": [
        {
          "output_type": "execute_result",
          "data": {
            "text/plain": [
              "          POBLACIÓN          %         DHVS           DVV      2015.0  \\\n",
              "count  3.200000e+01  32.000000    32.000000     32.000000    32.00000   \n",
              "mean   3.749690e+06   3.666898   373.062500   5026.781250   368.56250   \n",
              "std    3.195336e+06   3.298634  1328.005367   8991.988663   459.10621   \n",
              "min    7.136120e+05   0.000000     0.000000      0.000000     0.00000   \n",
              "25%    1.704616e+06   1.478518    15.000000   1098.750000    41.75000   \n",
              "50%    2.916753e+06   3.157334    69.500000   1934.500000   250.50000   \n",
              "75%    4.685442e+06   5.379575   173.000000   5733.750000   373.25000   \n",
              "max    1.667210e+07  15.283922  7566.000000  49503.000000  1646.00000   \n",
              "\n",
              "            2016.0       2017.0       2018.0       2019.0      2020.0  \\\n",
              "count    32.000000    32.000000    32.000000    32.000000   32.000000   \n",
              "mean    471.093750   496.875000   595.750000   724.718750  126.906250   \n",
              "std     567.975088   549.790209   632.494804   871.914032  148.322743   \n",
              "min       0.000000     0.000000     0.000000     0.000000    0.000000   \n",
              "25%     109.500000   175.250000   209.250000   234.250000   56.750000   \n",
              "50%     302.500000   335.000000   402.500000   487.500000   81.000000   \n",
              "75%     432.500000   462.250000   574.250000   705.250000  124.250000   \n",
              "max    2345.000000  2321.000000  2561.000000  4058.000000  681.000000   \n",
              "\n",
              "             MEDIA       TASA  \n",
              "count    32.000000  32.000000  \n",
              "mean    483.068750  12.813224  \n",
              "std     540.176668   8.667710  \n",
              "min       0.000000   0.000000  \n",
              "25%     176.000000   5.528427  \n",
              "50%     320.200000  12.130736  \n",
              "75%     432.250000  18.099445  \n",
              "max    2140.200000  30.530299  "
            ],
            "text/html": [
              "\n",
              "  <div id=\"df-4d892347-6f8b-4356-bd7c-042d5ac046f6\">\n",
              "    <div class=\"colab-df-container\">\n",
              "      <div>\n",
              "<style scoped>\n",
              "    .dataframe tbody tr th:only-of-type {\n",
              "        vertical-align: middle;\n",
              "    }\n",
              "\n",
              "    .dataframe tbody tr th {\n",
              "        vertical-align: top;\n",
              "    }\n",
              "\n",
              "    .dataframe thead th {\n",
              "        text-align: right;\n",
              "    }\n",
              "</style>\n",
              "<table border=\"1\" class=\"dataframe\">\n",
              "  <thead>\n",
              "    <tr style=\"text-align: right;\">\n",
              "      <th></th>\n",
              "      <th>POBLACIÓN</th>\n",
              "      <th>%</th>\n",
              "      <th>DHVS</th>\n",
              "      <th>DVV</th>\n",
              "      <th>2015.0</th>\n",
              "      <th>2016.0</th>\n",
              "      <th>2017.0</th>\n",
              "      <th>2018.0</th>\n",
              "      <th>2019.0</th>\n",
              "      <th>2020.0</th>\n",
              "      <th>MEDIA</th>\n",
              "      <th>TASA</th>\n",
              "    </tr>\n",
              "  </thead>\n",
              "  <tbody>\n",
              "    <tr>\n",
              "      <th>count</th>\n",
              "      <td>3.200000e+01</td>\n",
              "      <td>32.000000</td>\n",
              "      <td>32.000000</td>\n",
              "      <td>32.000000</td>\n",
              "      <td>32.00000</td>\n",
              "      <td>32.000000</td>\n",
              "      <td>32.000000</td>\n",
              "      <td>32.000000</td>\n",
              "      <td>32.000000</td>\n",
              "      <td>32.000000</td>\n",
              "      <td>32.000000</td>\n",
              "      <td>32.000000</td>\n",
              "    </tr>\n",
              "    <tr>\n",
              "      <th>mean</th>\n",
              "      <td>3.749690e+06</td>\n",
              "      <td>3.666898</td>\n",
              "      <td>373.062500</td>\n",
              "      <td>5026.781250</td>\n",
              "      <td>368.56250</td>\n",
              "      <td>471.093750</td>\n",
              "      <td>496.875000</td>\n",
              "      <td>595.750000</td>\n",
              "      <td>724.718750</td>\n",
              "      <td>126.906250</td>\n",
              "      <td>483.068750</td>\n",
              "      <td>12.813224</td>\n",
              "    </tr>\n",
              "    <tr>\n",
              "      <th>std</th>\n",
              "      <td>3.195336e+06</td>\n",
              "      <td>3.298634</td>\n",
              "      <td>1328.005367</td>\n",
              "      <td>8991.988663</td>\n",
              "      <td>459.10621</td>\n",
              "      <td>567.975088</td>\n",
              "      <td>549.790209</td>\n",
              "      <td>632.494804</td>\n",
              "      <td>871.914032</td>\n",
              "      <td>148.322743</td>\n",
              "      <td>540.176668</td>\n",
              "      <td>8.667710</td>\n",
              "    </tr>\n",
              "    <tr>\n",
              "      <th>min</th>\n",
              "      <td>7.136120e+05</td>\n",
              "      <td>0.000000</td>\n",
              "      <td>0.000000</td>\n",
              "      <td>0.000000</td>\n",
              "      <td>0.00000</td>\n",
              "      <td>0.000000</td>\n",
              "      <td>0.000000</td>\n",
              "      <td>0.000000</td>\n",
              "      <td>0.000000</td>\n",
              "      <td>0.000000</td>\n",
              "      <td>0.000000</td>\n",
              "      <td>0.000000</td>\n",
              "    </tr>\n",
              "    <tr>\n",
              "      <th>25%</th>\n",
              "      <td>1.704616e+06</td>\n",
              "      <td>1.478518</td>\n",
              "      <td>15.000000</td>\n",
              "      <td>1098.750000</td>\n",
              "      <td>41.75000</td>\n",
              "      <td>109.500000</td>\n",
              "      <td>175.250000</td>\n",
              "      <td>209.250000</td>\n",
              "      <td>234.250000</td>\n",
              "      <td>56.750000</td>\n",
              "      <td>176.000000</td>\n",
              "      <td>5.528427</td>\n",
              "    </tr>\n",
              "    <tr>\n",
              "      <th>50%</th>\n",
              "      <td>2.916753e+06</td>\n",
              "      <td>3.157334</td>\n",
              "      <td>69.500000</td>\n",
              "      <td>1934.500000</td>\n",
              "      <td>250.50000</td>\n",
              "      <td>302.500000</td>\n",
              "      <td>335.000000</td>\n",
              "      <td>402.500000</td>\n",
              "      <td>487.500000</td>\n",
              "      <td>81.000000</td>\n",
              "      <td>320.200000</td>\n",
              "      <td>12.130736</td>\n",
              "    </tr>\n",
              "    <tr>\n",
              "      <th>75%</th>\n",
              "      <td>4.685442e+06</td>\n",
              "      <td>5.379575</td>\n",
              "      <td>173.000000</td>\n",
              "      <td>5733.750000</td>\n",
              "      <td>373.25000</td>\n",
              "      <td>432.500000</td>\n",
              "      <td>462.250000</td>\n",
              "      <td>574.250000</td>\n",
              "      <td>705.250000</td>\n",
              "      <td>124.250000</td>\n",
              "      <td>432.250000</td>\n",
              "      <td>18.099445</td>\n",
              "    </tr>\n",
              "    <tr>\n",
              "      <th>max</th>\n",
              "      <td>1.667210e+07</td>\n",
              "      <td>15.283922</td>\n",
              "      <td>7566.000000</td>\n",
              "      <td>49503.000000</td>\n",
              "      <td>1646.00000</td>\n",
              "      <td>2345.000000</td>\n",
              "      <td>2321.000000</td>\n",
              "      <td>2561.000000</td>\n",
              "      <td>4058.000000</td>\n",
              "      <td>681.000000</td>\n",
              "      <td>2140.200000</td>\n",
              "      <td>30.530299</td>\n",
              "    </tr>\n",
              "  </tbody>\n",
              "</table>\n",
              "</div>\n",
              "      <button class=\"colab-df-convert\" onclick=\"convertToInteractive('df-4d892347-6f8b-4356-bd7c-042d5ac046f6')\"\n",
              "              title=\"Convert this dataframe to an interactive table.\"\n",
              "              style=\"display:none;\">\n",
              "        \n",
              "  <svg xmlns=\"http://www.w3.org/2000/svg\" height=\"24px\"viewBox=\"0 0 24 24\"\n",
              "       width=\"24px\">\n",
              "    <path d=\"M0 0h24v24H0V0z\" fill=\"none\"/>\n",
              "    <path d=\"M18.56 5.44l.94 2.06.94-2.06 2.06-.94-2.06-.94-.94-2.06-.94 2.06-2.06.94zm-11 1L8.5 8.5l.94-2.06 2.06-.94-2.06-.94L8.5 2.5l-.94 2.06-2.06.94zm10 10l.94 2.06.94-2.06 2.06-.94-2.06-.94-.94-2.06-.94 2.06-2.06.94z\"/><path d=\"M17.41 7.96l-1.37-1.37c-.4-.4-.92-.59-1.43-.59-.52 0-1.04.2-1.43.59L10.3 9.45l-7.72 7.72c-.78.78-.78 2.05 0 2.83L4 21.41c.39.39.9.59 1.41.59.51 0 1.02-.2 1.41-.59l7.78-7.78 2.81-2.81c.8-.78.8-2.07 0-2.86zM5.41 20L4 18.59l7.72-7.72 1.47 1.35L5.41 20z\"/>\n",
              "  </svg>\n",
              "      </button>\n",
              "      \n",
              "  <style>\n",
              "    .colab-df-container {\n",
              "      display:flex;\n",
              "      flex-wrap:wrap;\n",
              "      gap: 12px;\n",
              "    }\n",
              "\n",
              "    .colab-df-convert {\n",
              "      background-color: #E8F0FE;\n",
              "      border: none;\n",
              "      border-radius: 50%;\n",
              "      cursor: pointer;\n",
              "      display: none;\n",
              "      fill: #1967D2;\n",
              "      height: 32px;\n",
              "      padding: 0 0 0 0;\n",
              "      width: 32px;\n",
              "    }\n",
              "\n",
              "    .colab-df-convert:hover {\n",
              "      background-color: #E2EBFA;\n",
              "      box-shadow: 0px 1px 2px rgba(60, 64, 67, 0.3), 0px 1px 3px 1px rgba(60, 64, 67, 0.15);\n",
              "      fill: #174EA6;\n",
              "    }\n",
              "\n",
              "    [theme=dark] .colab-df-convert {\n",
              "      background-color: #3B4455;\n",
              "      fill: #D2E3FC;\n",
              "    }\n",
              "\n",
              "    [theme=dark] .colab-df-convert:hover {\n",
              "      background-color: #434B5C;\n",
              "      box-shadow: 0px 1px 3px 1px rgba(0, 0, 0, 0.15);\n",
              "      filter: drop-shadow(0px 1px 2px rgba(0, 0, 0, 0.3));\n",
              "      fill: #FFFFFF;\n",
              "    }\n",
              "  </style>\n",
              "\n",
              "      <script>\n",
              "        const buttonEl =\n",
              "          document.querySelector('#df-4d892347-6f8b-4356-bd7c-042d5ac046f6 button.colab-df-convert');\n",
              "        buttonEl.style.display =\n",
              "          google.colab.kernel.accessAllowed ? 'block' : 'none';\n",
              "\n",
              "        async function convertToInteractive(key) {\n",
              "          const element = document.querySelector('#df-4d892347-6f8b-4356-bd7c-042d5ac046f6');\n",
              "          const dataTable =\n",
              "            await google.colab.kernel.invokeFunction('convertToInteractive',\n",
              "                                                     [key], {});\n",
              "          if (!dataTable) return;\n",
              "\n",
              "          const docLinkHtml = 'Like what you see? Visit the ' +\n",
              "            '<a target=\"_blank\" href=https://colab.research.google.com/notebooks/data_table.ipynb>data table notebook</a>'\n",
              "            + ' to learn more about interactive tables.';\n",
              "          element.innerHTML = '';\n",
              "          dataTable['output_type'] = 'display_data';\n",
              "          await google.colab.output.renderOutput(dataTable, element);\n",
              "          const docLink = document.createElement('div');\n",
              "          docLink.innerHTML = docLinkHtml;\n",
              "          element.appendChild(docLink);\n",
              "        }\n",
              "      </script>\n",
              "    </div>\n",
              "  </div>\n",
              "  "
            ]
          },
          "metadata": {},
          "execution_count": 6
        }
      ]
    },
    {
      "cell_type": "code",
      "source": [
        "df['DHVS'].max"
      ],
      "metadata": {
        "colab": {
          "base_uri": "https://localhost:8080/"
        },
        "id": "Gm6un1HSX3Qy",
        "outputId": "89743f8d-90c2-4a06-a99b-c3a1a619fc5d"
      },
      "execution_count": null,
      "outputs": [
        {
          "output_type": "execute_result",
          "data": {
            "text/plain": [
              "<bound method NDFrame._add_numeric_operations.<locals>.max of 0       12.0\n",
              "1        0.0\n",
              "2       52.0\n",
              "3      121.0\n",
              "4      312.0\n",
              "5       26.0\n",
              "6      430.0\n",
              "7      196.0\n",
              "8     7566.0\n",
              "9       87.0\n",
              "10     159.0\n",
              "11      54.0\n",
              "12     171.0\n",
              "13     821.0\n",
              "14     730.0\n",
              "15      70.0\n",
              "16      86.0\n",
              "17       0.0\n",
              "18      64.0\n",
              "19     179.0\n",
              "20     163.0\n",
              "21       8.0\n",
              "22       0.0\n",
              "23     428.0\n",
              "24       0.0\n",
              "25      77.0\n",
              "26       0.0\n",
              "27       0.0\n",
              "28      20.0\n",
              "29      69.0\n",
              "30      16.0\n",
              "31      21.0\n",
              "Name: DHVS, dtype: float64>"
            ]
          },
          "metadata": {},
          "execution_count": 7
        }
      ]
    },
    {
      "cell_type": "code",
      "source": [
        "df.max()"
      ],
      "metadata": {
        "colab": {
          "base_uri": "https://localhost:8080/"
        },
        "id": "E_UvuxOAY58x",
        "outputId": "5e38a37a-e75c-4090-ac93-10c227d50bb3"
      },
      "execution_count": null,
      "outputs": [
        {
          "output_type": "execute_result",
          "data": {
            "text/plain": [
              "Entidad federativa     Zacatecas\n",
              "POBLACIÓN             16672099.0\n",
              "%                      15.283922\n",
              "DHVS                      7566.0\n",
              "DVV                      49503.0\n",
              "2015.0                    1646.0\n",
              "2016.0                    2345.0\n",
              "2017.0                    2321.0\n",
              "2018.0                    2561.0\n",
              "2019.0                    4058.0\n",
              "2020.0                     681.0\n",
              "MEDIA                     2140.2\n",
              "TASA                   30.530299\n",
              "dtype: object"
            ]
          },
          "metadata": {},
          "execution_count": 8
        }
      ]
    },
    {
      "cell_type": "code",
      "source": [
        "df['DHVS'].mean"
      ],
      "metadata": {
        "colab": {
          "base_uri": "https://localhost:8080/"
        },
        "id": "mMGR1WX4Y3nO",
        "outputId": "bb6a59f5-ccf5-4384-ce9b-05e8881fabfd"
      },
      "execution_count": null,
      "outputs": [
        {
          "output_type": "execute_result",
          "data": {
            "text/plain": [
              "<bound method NDFrame._add_numeric_operations.<locals>.mean of 0       12.0\n",
              "1        0.0\n",
              "2       52.0\n",
              "3      121.0\n",
              "4      312.0\n",
              "5       26.0\n",
              "6      430.0\n",
              "7      196.0\n",
              "8     7566.0\n",
              "9       87.0\n",
              "10     159.0\n",
              "11      54.0\n",
              "12     171.0\n",
              "13     821.0\n",
              "14     730.0\n",
              "15      70.0\n",
              "16      86.0\n",
              "17       0.0\n",
              "18      64.0\n",
              "19     179.0\n",
              "20     163.0\n",
              "21       8.0\n",
              "22       0.0\n",
              "23     428.0\n",
              "24       0.0\n",
              "25      77.0\n",
              "26       0.0\n",
              "27       0.0\n",
              "28      20.0\n",
              "29      69.0\n",
              "30      16.0\n",
              "31      21.0\n",
              "Name: DHVS, dtype: float64>"
            ]
          },
          "metadata": {},
          "execution_count": 9
        }
      ]
    },
    {
      "cell_type": "code",
      "source": [
        "df.mean()\n"
      ],
      "metadata": {
        "colab": {
          "base_uri": "https://localhost:8080/"
        },
        "id": "dFuoeyNbYeZw",
        "outputId": "5b5af981-3c0e-485d-df3b-29335ccf0319"
      },
      "execution_count": null,
      "outputs": [
        {
          "output_type": "stream",
          "name": "stderr",
          "text": [
            "/usr/local/lib/python3.7/dist-packages/ipykernel_launcher.py:1: FutureWarning: Dropping of nuisance columns in DataFrame reductions (with 'numeric_only=None') is deprecated; in a future version this will raise TypeError.  Select only valid columns before calling the reduction.\n",
            "  \"\"\"Entry point for launching an IPython kernel.\n"
          ]
        },
        {
          "output_type": "execute_result",
          "data": {
            "text/plain": [
              "POBLACIÓN    3.749690e+06\n",
              "%            3.666898e+00\n",
              "DHVS         3.730625e+02\n",
              "DVV          5.026781e+03\n",
              "2015.0       3.685625e+02\n",
              "2016.0       4.710938e+02\n",
              "2017.0       4.968750e+02\n",
              "2018.0       5.957500e+02\n",
              "2019.0       7.247188e+02\n",
              "2020.0       1.269062e+02\n",
              "MEDIA        4.830688e+02\n",
              "TASA         1.281322e+01\n",
              "dtype: float64"
            ]
          },
          "metadata": {},
          "execution_count": 10
        }
      ]
    },
    {
      "cell_type": "code",
      "source": [
        "df['DHVS'].value_counts()"
      ],
      "metadata": {
        "colab": {
          "base_uri": "https://localhost:8080/"
        },
        "id": "7knV9VK7aoYi",
        "outputId": "087c2b9b-3e24-4df7-8a82-fcc1219e7d74"
      },
      "execution_count": null,
      "outputs": [
        {
          "output_type": "execute_result",
          "data": {
            "text/plain": [
              "0.0       6\n",
              "12.0      1\n",
              "730.0     1\n",
              "16.0      1\n",
              "69.0      1\n",
              "20.0      1\n",
              "77.0      1\n",
              "428.0     1\n",
              "8.0       1\n",
              "163.0     1\n",
              "179.0     1\n",
              "64.0      1\n",
              "86.0      1\n",
              "70.0      1\n",
              "821.0     1\n",
              "171.0     1\n",
              "54.0      1\n",
              "159.0     1\n",
              "87.0      1\n",
              "7566.0    1\n",
              "196.0     1\n",
              "430.0     1\n",
              "26.0      1\n",
              "312.0     1\n",
              "121.0     1\n",
              "52.0      1\n",
              "21.0      1\n",
              "Name: DHVS, dtype: int64"
            ]
          },
          "metadata": {},
          "execution_count": 11
        }
      ]
    },
    {
      "cell_type": "code",
      "source": [
        "df.plot.scatter(x= 'DHVS' ,y = 'DVV')"
      ],
      "metadata": {
        "colab": {
          "base_uri": "https://localhost:8080/",
          "height": 296
        },
        "id": "gsv4giuHa1qw",
        "outputId": "20d4cd16-cc38-4c5f-da14-12f93bc2bb3a"
      },
      "execution_count": null,
      "outputs": [
        {
          "output_type": "execute_result",
          "data": {
            "text/plain": [
              "<matplotlib.axes._subplots.AxesSubplot at 0x7fa4f815a710>"
            ]
          },
          "metadata": {},
          "execution_count": 12
        },
        {
          "output_type": "display_data",
          "data": {
            "text/plain": [
              "<Figure size 432x288 with 1 Axes>"
            ],
            "image/png": "[encoded data removed]"
          },
          "metadata": {
            "needs_background": "light"
          }
        }
      ]
    },
    {
      "cell_type": "code",
      "source": [
        "df.plot.hist()"
      ],
      "metadata": {
        "colab": {
          "base_uri": "https://localhost:8080/",
          "height": 295
        },
        "id": "vFT3rb59bb9-",
        "outputId": "7834ac5f-2a21-4359-db3e-8d76c2226de2"
      },
      "execution_count": null,
      "outputs": [
        {
          "output_type": "execute_result",
          "data": {
            "text/plain": [
              "<matplotlib.axes._subplots.AxesSubplot at 0x7fa4f80cb050>"
            ]
          },
          "metadata": {},
          "execution_count": 13
        },
        {
          "output_type": "display_data",
          "data": {
            "text/plain": [
              "<Figure size 432x288 with 1 Axes>"
            ],
            "image/png": "[encoded data removed]"
          },
          "metadata": {
            "needs_background": "light"
          }
        }
      ]
    },
    {
      "cell_type": "code",
      "source": [
        "df['POBLACIÓN'].plot.hist()"
      ],
      "metadata": {
        "colab": {
          "base_uri": "https://localhost:8080/",
          "height": 295
        },
        "id": "4D9EZBv1blNO",
        "outputId": "108109d0-9823-4425-cdc1-768eda376fed"
      },
      "execution_count": null,
      "outputs": [
        {
          "output_type": "execute_result",
          "data": {
            "text/plain": [
              "<matplotlib.axes._subplots.AxesSubplot at 0x7fa4f7bf1990>"
            ]
          },
          "metadata": {},
          "execution_count": 14
        },
        {
          "output_type": "display_data",
          "data": {
            "text/plain": [
              "<Figure size 432x288 with 1 Axes>"
            ],
            "image/png": "[encoded data removed]"
          },
          "metadata": {
            "needs_background": "light"
          }
        }
      ]
    },
    {
      "cell_type": "code",
      "source": [
        "df.plot.box()"
      ],
      "metadata": {
        "colab": {
          "base_uri": "https://localhost:8080/",
          "height": 293
        },
        "id": "6RpKRk_ncQqt",
        "outputId": "7b19e37a-bbb7-4d06-f0ac-03c3eeada1cf"
      },
      "execution_count": null,
      "outputs": [
        {
          "output_type": "execute_result",
          "data": {
            "text/plain": [
              "<matplotlib.axes._subplots.AxesSubplot at 0x7fa4f7b98990>"
            ]
          },
          "metadata": {},
          "execution_count": 15
        },
        {
          "output_type": "display_data",
          "data": {
            "text/plain": [
              "<Figure size 432x288 with 1 Axes>"
            ],
            "image/png": "[encoded data removed]"
          },
          "metadata": {
            "needs_background": "light"
          }
        }
      ]
    },
    {
      "cell_type": "code",
      "source": [
        "df.groupby('DVV').boxplot(figsize=(15,15),rot= 45)"
      ],
      "metadata": {
        "colab": {
          "base_uri": "https://localhost:8080/",
          "height": 1000
        },
        "id": "y0fDc4NKcXZs",
        "outputId": "97df02fc-690a-4555-a6d2-ab2d8841971e"
      },
      "execution_count": null,
      "outputs": [
        {
          "output_type": "execute_result",
          "data": {
            "text/plain": [
              "0.0             AxesSubplot(0.1,0.792857;0.137931x0.107143)\n",
              "147.0      AxesSubplot(0.265517,0.792857;0.137931x0.107143)\n",
              "825.0      AxesSubplot(0.431034,0.792857;0.137931x0.107143)\n",
              "828.0      AxesSubplot(0.596552,0.792857;0.137931x0.107143)\n",
              "893.0      AxesSubplot(0.762069,0.792857;0.137931x0.107143)\n",
              "996.0           AxesSubplot(0.1,0.664286;0.137931x0.107143)\n",
              "1133.0     AxesSubplot(0.265517,0.664286;0.137931x0.107143)\n",
              "1242.0     AxesSubplot(0.431034,0.664286;0.137931x0.107143)\n",
              "1614.0     AxesSubplot(0.596552,0.664286;0.137931x0.107143)\n",
              "1662.0     AxesSubplot(0.762069,0.664286;0.137931x0.107143)\n",
              "1666.0          AxesSubplot(0.1,0.535714;0.137931x0.107143)\n",
              "1706.0     AxesSubplot(0.265517,0.535714;0.137931x0.107143)\n",
              "1864.0     AxesSubplot(0.431034,0.535714;0.137931x0.107143)\n",
              "1866.0     AxesSubplot(0.596552,0.535714;0.137931x0.107143)\n",
              "2003.0     AxesSubplot(0.762069,0.535714;0.137931x0.107143)\n",
              "2532.0          AxesSubplot(0.1,0.407143;0.137931x0.107143)\n",
              "2922.0     AxesSubplot(0.265517,0.407143;0.137931x0.107143)\n",
              "3174.0     AxesSubplot(0.431034,0.407143;0.137931x0.107143)\n",
              "3494.0     AxesSubplot(0.596552,0.407143;0.137931x0.107143)\n",
              "3540.0     AxesSubplot(0.762069,0.407143;0.137931x0.107143)\n",
              "5406.0          AxesSubplot(0.1,0.278571;0.137931x0.107143)\n",
              "5690.0     AxesSubplot(0.265517,0.278571;0.137931x0.107143)\n",
              "5865.0     AxesSubplot(0.431034,0.278571;0.137931x0.107143)\n",
              "5987.0     AxesSubplot(0.596552,0.278571;0.137931x0.107143)\n",
              "7184.0     AxesSubplot(0.762069,0.278571;0.137931x0.107143)\n",
              "7987.0              AxesSubplot(0.1,0.15;0.137931x0.107143)\n",
              "8680.0         AxesSubplot(0.265517,0.15;0.137931x0.107143)\n",
              "14649.0        AxesSubplot(0.431034,0.15;0.137931x0.107143)\n",
              "15799.0        AxesSubplot(0.596552,0.15;0.137931x0.107143)\n",
              "49503.0        AxesSubplot(0.762069,0.15;0.137931x0.107143)\n",
              "dtype: object"
            ]
          },
          "metadata": {},
          "execution_count": 16
        },
        {
          "output_type": "display_data",
          "data": {
            "text/plain": [
              "<Figure size 1080x1080 with 30 Axes>"
            ],
            "image/png": "[encoded data removed]"
          },
          "metadata": {
            "needs_background": "light"
          }
        }
      ]
    },
    {
      "cell_type": "code",
      "source": [
        "tabla = pd.pivot_table(df,values = 'DHVS', index= 'DVV', aggfunc= np.mean)\n",
        "tabla"
      ],
      "metadata": {
        "colab": {
          "base_uri": "https://localhost:8080/",
          "height": 1000
        },
        "id": "_pKXaafRdq6W",
        "outputId": "061fef67-297e-4bec-9065-c7b3a2530e99"
      },
      "execution_count": null,
      "outputs": [
        {
          "output_type": "execute_result",
          "data": {
            "text/plain": [
              "           DHVS\n",
              "DVV            \n",
              "0.0         0.0\n",
              "147.0       8.0\n",
              "825.0      26.0\n",
              "828.0      12.0\n",
              "893.0      20.0\n",
              "996.0       0.0\n",
              "1133.0     86.0\n",
              "1242.0     21.0\n",
              "1614.0    121.0\n",
              "1662.0     16.0\n",
              "1666.0     54.0\n",
              "1706.0     77.0\n",
              "1864.0     87.0\n",
              "1866.0     69.0\n",
              "2003.0     70.0\n",
              "2532.0    159.0\n",
              "2922.0      0.0\n",
              "3174.0     64.0\n",
              "3494.0     52.0\n",
              "3540.0    312.0\n",
              "5406.0    171.0\n",
              "5690.0    430.0\n",
              "5865.0      0.0\n",
              "5987.0    179.0\n",
              "7184.0    163.0\n",
              "7987.0    428.0\n",
              "8680.0    196.0\n",
              "14649.0   821.0\n",
              "15799.0   730.0\n",
              "49503.0  7566.0"
            ],
            "text/html": [
              "\n",
              "  <div id=\"df-ac2d586b-a5f8-4dd7-894c-b3a74f328f8c\">\n",
              "    <div class=\"colab-df-container\">\n",
              "      <div>\n",
              "<style scoped>\n",
              "    .dataframe tbody tr th:only-of-type {\n",
              "        vertical-align: middle;\n",
              "    }\n",
              "\n",
              "    .dataframe tbody tr th {\n",
              "        vertical-align: top;\n",
              "    }\n",
              "\n",
              "    .dataframe thead th {\n",
              "        text-align: right;\n",
              "    }\n",
              "</style>\n",
              "<table border=\"1\" class=\"dataframe\">\n",
              "  <thead>\n",
              "    <tr style=\"text-align: right;\">\n",
              "      <th></th>\n",
              "      <th>DHVS</th>\n",
              "    </tr>\n",
              "    <tr>\n",
              "      <th>DVV</th>\n",
              "      <th></th>\n",
              "    </tr>\n",
              "  </thead>\n",
              "  <tbody>\n",
              "    <tr>\n",
              "      <th>0.0</th>\n",
              "      <td>0.0</td>\n",
              "    </tr>\n",
              "    <tr>\n",
              "      <th>147.0</th>\n",
              "      <td>8.0</td>\n",
              "    </tr>\n",
              "    <tr>\n",
              "      <th>825.0</th>\n",
              "      <td>26.0</td>\n",
              "    </tr>\n",
              "    <tr>\n",
              "      <th>828.0</th>\n",
              "      <td>12.0</td>\n",
              "    </tr>\n",
              "    <tr>\n",
              "      <th>893.0</th>\n",
              "      <td>20.0</td>\n",
              "    </tr>\n",
              "    <tr>\n",
              "      <th>996.0</th>\n",
              "      <td>0.0</td>\n",
              "    </tr>\n",
              "    <tr>\n",
              "      <th>1133.0</th>\n",
              "      <td>86.0</td>\n",
              "    </tr>\n",
              "    <tr>\n",
              "      <th>1242.0</th>\n",
              "      <td>21.0</td>\n",
              "    </tr>\n",
              "    <tr>\n",
              "      <th>1614.0</th>\n",
              "      <td>121.0</td>\n",
              "    </tr>\n",
              "    <tr>\n",
              "      <th>1662.0</th>\n",
              "      <td>16.0</td>\n",
              "    </tr>\n",
              "    <tr>\n",
              "      <th>1666.0</th>\n",
              "      <td>54.0</td>\n",
              "    </tr>\n",
              "    <tr>\n",
              "      <th>1706.0</th>\n",
              "      <td>77.0</td>\n",
              "    </tr>\n",
              "    <tr>\n",
              "      <th>1864.0</th>\n",
              "      <td>87.0</td>\n",
              "    </tr>\n",
              "    <tr>\n",
              "      <th>1866.0</th>\n",
              "      <td>69.0</td>\n",
              "    </tr>\n",
              "    <tr>\n",
              "      <th>2003.0</th>\n",
              "      <td>70.0</td>\n",
              "    </tr>\n",
              "    <tr>\n",
              "      <th>2532.0</th>\n",
              "      <td>159.0</td>\n",
              "    </tr>\n",
              "    <tr>\n",
              "      <th>2922.0</th>\n",
              "      <td>0.0</td>\n",
              "    </tr>\n",
              "    <tr>\n",
              "      <th>3174.0</th>\n",
              "      <td>64.0</td>\n",
              "    </tr>\n",
              "    <tr>\n",
              "      <th>3494.0</th>\n",
              "      <td>52.0</td>\n",
              "    </tr>\n",
              "    <tr>\n",
              "      <th>3540.0</th>\n",
              "      <td>312.0</td>\n",
              "    </tr>\n",
              "    <tr>\n",
              "      <th>5406.0</th>\n",
              "      <td>171.0</td>\n",
              "    </tr>\n",
              "    <tr>\n",
              "      <th>5690.0</th>\n",
              "      <td>430.0</td>\n",
              "    </tr>\n",
              "    <tr>\n",
              "      <th>5865.0</th>\n",
              "      <td>0.0</td>\n",
              "    </tr>\n",
              "    <tr>\n",
              "      <th>5987.0</th>\n",
              "      <td>179.0</td>\n",
              "    </tr>\n",
              "    <tr>\n",
              "      <th>7184.0</th>\n",
              "      <td>163.0</td>\n",
              "    </tr>\n",
              "    <tr>\n",
              "      <th>7987.0</th>\n",
              "      <td>428.0</td>\n",
              "    </tr>\n",
              "    <tr>\n",
              "      <th>8680.0</th>\n",
              "      <td>196.0</td>\n",
              "    </tr>\n",
              "    <tr>\n",
              "      <th>14649.0</th>\n",
              "      <td>821.0</td>\n",
              "    </tr>\n",
              "    <tr>\n",
              "      <th>15799.0</th>\n",
              "      <td>730.0</td>\n",
              "    </tr>\n",
              "    <tr>\n",
              "      <th>49503.0</th>\n",
              "      <td>7566.0</td>\n",
              "    </tr>\n",
              "  </tbody>\n",
              "</table>\n",
              "</div>\n",
              "      <button class=\"colab-df-convert\" onclick=\"convertToInteractive('df-ac2d586b-a5f8-4dd7-894c-b3a74f328f8c')\"\n",
              "              title=\"Convert this dataframe to an interactive table.\"\n",
              "              style=\"display:none;\">\n",
              "        \n",
              "  <svg xmlns=\"http://www.w3.org/2000/svg\" height=\"24px\"viewBox=\"0 0 24 24\"\n",
              "       width=\"24px\">\n",
              "    <path d=\"M0 0h24v24H0V0z\" fill=\"none\"/>\n",
              "    <path d=\"M18.56 5.44l.94 2.06.94-2.06 2.06-.94-2.06-.94-.94-2.06-.94 2.06-2.06.94zm-11 1L8.5 8.5l.94-2.06 2.06-.94-2.06-.94L8.5 2.5l-.94 2.06-2.06.94zm10 10l.94 2.06.94-2.06 2.06-.94-2.06-.94-.94-2.06-.94 2.06-2.06.94z\"/><path d=\"M17.41 7.96l-1.37-1.37c-.4-.4-.92-.59-1.43-.59-.52 0-1.04.2-1.43.59L10.3 9.45l-7.72 7.72c-.78.78-.78 2.05 0 2.83L4 21.41c.39.39.9.59 1.41.59.51 0 1.02-.2 1.41-.59l7.78-7.78 2.81-2.81c.8-.78.8-2.07 0-2.86zM5.41 20L4 18.59l7.72-7.72 1.47 1.35L5.41 20z\"/>\n",
              "  </svg>\n",
              "      </button>\n",
              "      \n",
              "  <style>\n",
              "    .colab-df-container {\n",
              "      display:flex;\n",
              "      flex-wrap:wrap;\n",
              "      gap: 12px;\n",
              "    }\n",
              "\n",
              "    .colab-df-convert {\n",
              "      background-color: #E8F0FE;\n",
              "      border: none;\n",
              "      border-radius: 50%;\n",
              "      cursor: pointer;\n",
              "      display: none;\n",
              "      fill: #1967D2;\n",
              "      height: 32px;\n",
              "      padding: 0 0 0 0;\n",
              "      width: 32px;\n",
              "    }\n",
              "\n",
              "    .colab-df-convert:hover {\n",
              "      background-color: #E2EBFA;\n",
              "      box-shadow: 0px 1px 2px rgba(60, 64, 67, 0.3), 0px 1px 3px 1px rgba(60, 64, 67, 0.15);\n",
              "      fill: #174EA6;\n",
              "    }\n",
              "\n",
              "    [theme=dark] .colab-df-convert {\n",
              "      background-color: #3B4455;\n",
              "      fill: #D2E3FC;\n",
              "    }\n",
              "\n",
              "    [theme=dark] .colab-df-convert:hover {\n",
              "      background-color: #434B5C;\n",
              "      box-shadow: 0px 1px 3px 1px rgba(0, 0, 0, 0.15);\n",
              "      filter: drop-shadow(0px 1px 2px rgba(0, 0, 0, 0.3));\n",
              "      fill: #FFFFFF;\n",
              "    }\n",
              "  </style>\n",
              "\n",
              "      <script>\n",
              "        const buttonEl =\n",
              "          document.querySelector('#df-ac2d586b-a5f8-4dd7-894c-b3a74f328f8c button.colab-df-convert');\n",
              "        buttonEl.style.display =\n",
              "          google.colab.kernel.accessAllowed ? 'block' : 'none';\n",
              "\n",
              "        async function convertToInteractive(key) {\n",
              "          const element = document.querySelector('#df-ac2d586b-a5f8-4dd7-894c-b3a74f328f8c');\n",
              "          const dataTable =\n",
              "            await google.colab.kernel.invokeFunction('convertToInteractive',\n",
              "                                                     [key], {});\n",
              "          if (!dataTable) return;\n",
              "\n",
              "          const docLinkHtml = 'Like what you see? Visit the ' +\n",
              "            '<a target=\"_blank\" href=https://colab.research.google.com/notebooks/data_table.ipynb>data table notebook</a>'\n",
              "            + ' to learn more about interactive tables.';\n",
              "          element.innerHTML = '';\n",
              "          dataTable['output_type'] = 'display_data';\n",
              "          await google.colab.output.renderOutput(dataTable, element);\n",
              "          const docLink = document.createElement('div');\n",
              "          docLink.innerHTML = docLinkHtml;\n",
              "          element.appendChild(docLink);\n",
              "        }\n",
              "      </script>\n",
              "    </div>\n",
              "  </div>\n",
              "  "
            ]
          },
          "metadata": {},
          "execution_count": 17
        }
      ]
    }
  ]
}